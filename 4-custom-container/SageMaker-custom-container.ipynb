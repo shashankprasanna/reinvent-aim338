{
 "cells": [
  {
   "cell_type": "markdown",
   "metadata": {},
   "source": [
    "# BYO container with SageMaker"
   ]
  },
  {
   "cell_type": "code",
   "execution_count": 1,
   "metadata": {},
   "outputs": [],
   "source": [
    "import os\n",
    "import numpy as np\n",
    "import sagemaker\n",
    "import boto3\n",
    "import time\n",
    "import math\n",
    "import json\n",
    "import re\n",
    "import pandas as pd\n",
    "from sagemaker.session import s3_input\n",
    "from sagemaker.estimator import Estimator\n",
    "\n",
    "sagemaker_session = sagemaker.Session()\n",
    "role = sagemaker.get_execution_role()\n",
    "\n",
    "client = boto3.client('sagemaker')\n",
    "region = boto3.Session().region_name\n",
    "account = boto3.client('sts').get_caller_identity().get('Account')"
   ]
  },
  {
   "cell_type": "code",
   "execution_count": 2,
   "metadata": {},
   "outputs": [],
   "source": [
    "bucket_name = 'reinvent-aim338'\n",
    "repo_name = 'reinvent-aim338'\n",
    "image_tag = 'latest'"
   ]
  },
  {
   "cell_type": "code",
   "execution_count": 3,
   "metadata": {},
   "outputs": [],
   "source": [
    "output_path = 's3://{}/'.format(bucket_name)\n",
    "train_path = 's3://{}/cifar10-dataset'.format(bucket_name)\n",
    "eval_path = 's3://{}/cifar10-dataset'.format(bucket_name)\n",
    "image = '{}.dkr.ecr.{}.amazonaws.com/{}:{}'.format(account, region, repo_name, image_tag)"
   ]
  },
  {
   "cell_type": "code",
   "execution_count": 4,
   "metadata": {},
   "outputs": [],
   "source": [
    "hyperparams={\n",
    "    'max_learning_rate':0.4,\n",
    "    'data_aug_cutout_size':5,\n",
    "    'batch_size':256,\n",
    "    'momentum':0.9,\n",
    "    'batch_norm':\"true\",\n",
    "    'epochs':2\n",
    "}"
   ]
  },
  {
   "cell_type": "code",
   "execution_count": 5,
   "metadata": {},
   "outputs": [
    {
     "name": "stdout",
     "output_type": "stream",
     "text": [
      "2019-12-05 19:36:21 Starting - Starting the training job...\n",
      "2019-12-05 19:36:22 Starting - Launching requested ML instances...\n",
      "2019-12-05 19:37:20 Starting - Preparing the instances for training......\n",
      "2019-12-05 19:38:18 Downloading - Downloading input data...............\n",
      "2019-12-05 19:40:24 Training - Downloading the training image......\n",
      "2019-12-05 19:41:45 Training - Training image download completed. Training in progress....\n",
      "2019-12-05 19:42:22 Uploading - Uploading generated training model\n",
      "2019-12-05 19:42:22 Completed - Training job completed\n",
      ".\u001b[34m#0150it [00:00, ?it/s]#015  0%|          | 0/170498071 [00:00<?, ?it/s]#015  0%|          | 40960/170498071 [00:00<10:05, 281475.70it/s]#015  0%|          | 204800/170498071 [00:00<07:39, 370442.72it/s]#015  0%|          | 450560/170498071 [00:00<05:42, 496242.44it/s]#015  1%|1         | 1744896/170498071 [00:00<04:02, 695676.80it/s]#015  2%|1         | 3334144/170498071 [00:00<02:51, 974844.05it/s]#015  4%|3         | 6397952/170498071 [00:01<01:59, 1371294.03it/s]#015  5%|4         | 8019968/170498071 [00:01<01:26, 1884526.29it/s]#015  6%|6         | 11067392/170498071 [00:01<01:00, 2616572.61it/s]#015  8%|7         | 12869632/170498071 [00:01<00:45, 3492044.71it/s]#015  9%|9         | 15753216/170498071 [00:01<00:32, 4729110.60it/s]#015 10%|#         | 17793024/170498071 [00:01<00:25, 6038054.72it/s]#015 12%|#1        | 20455424/170498071 [00:01<00:19, 7849616.53it/s]#015 13%|#3        | 22601728/170498071 [00:01<00:15, 9430817.48it/s]#015 15%|#4        | 25190400/170498071 [00:01<00:13, 11168815.91it/s]#015 16%|#6        | 27975680/170498071 [00:02<00:10, 13614656.17it/s]#015 18%|#7        | 30220288/170498071 [00:02<00:09, 14414144.08it/s]#015 19%|#9        | 32989184/170498071 [00:02<00:08, 16009136.70it/s]#015 21%|##        | 35332096/170498071 [00:02<00:07, 17684987.05it/s]#015 22%|##2       | 37675008/170498071 [00:02<00:07, 18252287.04it/s]#015 23%|##3       | 39952384/170498071 [00:02<00:06, 19403856.38it/s]#015 25%|##4       | 42360832/170498071 [00:02<00:06, 19698697.21it/s]#015 26%|##6       | 44523520/170498071 [00:02<00:06, 20235648.27it/s]#015 28%|##7       | 47046656/170498071 [00:02<00:06, 20358164.73it/s]#015 29%|##8       | 49168384/170498071 [00:03<00:05, 20378547.15it/s]#015 30%|###       | 51732480/170498071 [00:03<00:05, 20961063.90it/s]#015 32%|###1      | 53878784/170498071 [00:03<00:05, 20616273.39it/s]#015 33%|###3      | 56401920/170498071 [00:03<00:05, 21253702.57it/s]#015 34%|###4      | 58556416/170498071 [00:03<00:05, 20781493.83it/s]#015 36%|###5      | 61087744/170498071 [00:03<00:05, 21452497.59it/s]#015 37%|###7      | 63258624/170498071 [00:03<00:05, 20757552.24it/s]#015 39%|###8      | 65773568/170498071 [00:03<00:04, 21526228.27it/s]#015 40%|###9      | 67952640/170498071 [00:03<00:04, 20812606.11it/s]#015 41%|####1     | 70393856/170498071 [00:04<00:04, 21758453.26it/s]#015 43%|####2     | 72597504/170498071 [00:04<00:04, 20575106.77it/s]#015 44%|####4     | 75030528/170498071 [00:04<00:04, 21527367.04it/s]#015 45%|####5     | 77217792/170498071 [00:04<00:04, 20482422.37it/s]#015 47%|####6     | 79568896/170498071 [00:04<00:04, 21290473.25it/s]#015 48%|####7     | 81731584/170498071 [00:04<00:04, 20770373.73it/s]#015 49%|####9     | 83861504/170498071 [00:04<00:04, 20891631.22it/s]#015 51%|#####     | 86138880/170498071 [00:04<00:03, 21183898.71it/s]#015 52%|#####1    | 88276992/170498071 [00:04<00:03, 20915038.82it/s]#015 53%|#####3    | 90628096/170498071 [00:05<00:03, 21566855.20it/s]#015 54%|#####4    | 92798976/170498071 [00:05<00:03, 20744349.11it/s]#015 56%|#####5    | 95117312/170498071 [00:05<00:03, 21348196.31it/s]#015 57%|#####7    | 97271808/170498071 [00:05<00:03, 20944913.89it/s]#015 58%|#####8    | 99385344/170498071 [00:05<00:03, 20862490.43it/s]#015 60%|#####9    | 101769216/170498071 [00:05<00:03, 21553655.86it/s]#015 61%|######    | 103940096/170498071 [00:05<00:03, 21128840.03it/s]#015 62%|######2   | 106110976/170498071 [00:05<00:03, 21287289.23it/s]#015 63%|######3   | 108249088/170498071 [00:05<00:02, 21274323.69it/s]#015 65%|######4   | 110387200/170498071 [00:05<00:02, 20965536.24it/s]#015 66%|######6   | 112697344/170498071 [00:06<00:02, 21546238.62it/s]#015 67%|######7   | 114860032/170498071 [00:06<00:02, 20980879.56it/s]#015 69%|######8   | 117055488/170498071 [00:06<00:02, 21261457.07it/s]#015 70%|######9   | 119193600/170498071 [00:06<00:02, 21179059.17it/s]#015 71%|#######1  | 121323520/170498071 [00:06<00:02, 21131741.85it/s]#015 72%|#######2  | 123592704/170498071 [00:06<00:02, 21496908.07it/s]#015 74%|#######3  | 125747200/170498071 [00:06<00:02, 21236712.50it/s]#015 75%|#######5  | 127877120/170498071 [00:06<00:02, 21200706.22it/s]#015 76%|#######6  | 130129920/170498071 [00:06<00:01, 21423929.60it/s]#015 78%|#######7  | 132276224/170498071 [00:06<00:01, 21015637.62it/s]#015 79%|#######8  | 134586368/170498071 [00:07<00:01, 21531413.14it/s]#015 80%|########  | 136749056/170498071 [00:07<00:01, 21304953.62it/s]#015 81%|########1 | 138911744/170498071 [00:07<00:01, 21364311.93it/s]#015 83%|########2 | 141090816/170498071 [00:07<00:01, 21302850.14it/s]#015 84%|########4 | 143228928/170498071 [00:07<00:01, 21160953.31it/s]#015 85%|########5 | 145547264/170498071 [00:07<00:01, 21713129.01it/s]#015 87%|########6 | 147726336/170498071 [00:07<00:01, 21211676.51it/s]#015 88%|########7 | 150003712/170498071 [00:07<00:00, 21654741.80it/s]#015 89%|########9 | 152182784/170498071 [00:07<00:00, 21199009.68it/s]#015 91%|######### | 154312704/170498071 [00:08<00:00, 21065239.49it/s]#015 92%|#########1| 156639232/170498071 [00:08<00:00, 21584076.65it/s]#015 93%|#########3| 158810112/170498071 [00:08<00:00, 21182460.98it/s]#015 94%|#########4| 161062912/170498071 [00:08<00:00, 21513093.77it/s]#015 96%|#########5| 163225600/170498071 [00:08<00:00, 21236897.52it/s]#015 97%|#########6| 165355520/170498071 [00:08<00:00, 20982700.60it/s]#015 98%|#########8| 167641088/170498071 [00:08<00:00, 21510455.01it/s]#015100%|#########9| 169803776/170498071 [00:08<00:00, 21042962.93it/s]#015170500096it [00:08, 19485584.03it/s]                               \u001b[0m\n",
      "\u001b[34m['batches.meta', 'validation', 'readme.html', 'eval', 'test_batch', 'train', 'data_batch_2', 'data_batch_5', 'data_batch_3', 'data_batch_1', 'data_batch_4']\u001b[0m\n",
      "\u001b[34mDownloading datasets\u001b[0m\n",
      "\u001b[34mDownloading https://www.cs.toronto.edu/~kriz/cifar-10-python.tar.gz to /opt/ml/input/data/training/cifar-10-python.tar.gz\u001b[0m\n",
      "\u001b[34mExtracting /opt/ml/input/data/training/cifar-10-python.tar.gz to /opt/ml/input/data/training/\u001b[0m\n",
      "\u001b[34mFiles already downloaded and verified\u001b[0m\n",
      "\u001b[34mWarming up cudnn on random inputs\u001b[0m\n",
      "\u001b[34mStarting timer\u001b[0m\n",
      "\u001b[34mPreprocessing training data\u001b[0m\n",
      "\u001b[34mFinished in 2.4 seconds\u001b[0m\n",
      "\u001b[34mPreprocessing test data\u001b[0m\n",
      "\u001b[34mFinished in 0.094 seconds\u001b[0m\n",
      "\u001b[34mepoch_num:0 , train_loss:1.396562050932493 , train_acc:0.49821714743589746 , test_loss:1.0924323373794556 , test_acc:0.6247\n",
      "       epoch           lr   train time   train loss    train acc    test time    test loss     test acc   total time\u001b[0m\n",
      "\u001b[34mepoch_num:1 , train_loss:0.780140355305794 , train_acc:0.7261618589743589 , test_loss:0.9053452785491943 , test_acc:0.6932\u001b[0m\n",
      "Training seconds: 244\n",
      "Billable seconds: 244\n"
     ]
    }
   ],
   "source": [
    "estimator = Estimator(\n",
    "    image_name=image,\n",
    "    role=role,\n",
    "    train_instance_count=1,\n",
    "    train_instance_type='ml.p3.2xlarge',\n",
    "    output_path=output_path,\n",
    "    base_job_name='reinvent',\n",
    "    hyperparameters=hyperparams,\n",
    "    metric_definitions=[{'Name': 'test_acc', 'Regex': 'test_acc:([0-9\\\\.]+)'}])\n",
    "\n",
    "estimator.fit({'training': train_path, 'eval': eval_path})"
   ]
  },
  {
   "cell_type": "code",
   "execution_count": null,
   "metadata": {},
   "outputs": [],
   "source": []
  }
 ],
 "metadata": {
  "kernelspec": {
   "display_name": "conda_python3",
   "language": "python",
   "name": "conda_python3"
  },
  "language_info": {
   "codemirror_mode": {
    "name": "ipython",
    "version": 3
   },
   "file_extension": ".py",
   "mimetype": "text/x-python",
   "name": "python",
   "nbconvert_exporter": "python",
   "pygments_lexer": "ipython3",
   "version": "3.6.5"
  }
 },
 "nbformat": 4,
 "nbformat_minor": 4
}
